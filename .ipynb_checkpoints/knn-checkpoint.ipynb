{
 "cells": [
  {
   "cell_type": "code",
   "execution_count": 30,
   "metadata": {},
   "outputs": [
    {
     "name": "stdout",
     "output_type": "stream",
     "text": [
      "data loaded\n"
     ]
    }
   ],
   "source": [
    "import warnings\n",
    "warnings.filterwarnings('ignore')\n",
    "from keras.datasets import cifar10\n",
    "import numpy as np\n",
    "\n",
    "# load the data\n",
    "(x_train, y_train), (x_test, y_test) = cifar10.load_data()\n",
    "y_train = np.squeeze(y_train)\n",
    "print('data loaded')"
   ]
  },
  {
   "cell_type": "code",
   "execution_count": 31,
   "metadata": {},
   "outputs": [
    {
     "name": "stdout",
     "output_type": "stream",
     "text": [
      "Shape of train features:  (50000, 32, 32, 3) Shape of test features:  (10000, 32, 32, 3)\n",
      "The data is in 3D arrays\n"
     ]
    }
   ],
   "source": [
    "print( \"Shape of train features: \", np.shape(x_train), \"Shape of test features: \", np.shape(x_test))\n",
    "print(\"The data is in 3D arrays\")"
   ]
  },
  {
   "cell_type": "code",
   "execution_count": 32,
   "metadata": {},
   "outputs": [
    {
     "name": "stdout",
     "output_type": "stream",
     "text": [
      "In the training data there are 10 classes of object, each contains 5000 examples\n"
     ]
    },
    {
     "data": {
      "text/plain": [
       "(array([0, 1, 2, 3, 4, 5, 6, 7, 8, 9], dtype=uint8),\n",
       " array([5000, 5000, 5000, 5000, 5000, 5000, 5000, 5000, 5000, 5000]))"
      ]
     },
     "execution_count": 32,
     "metadata": {},
     "output_type": "execute_result"
    }
   ],
   "source": [
    "print(\"In the training data there are 10 classes of object, each contains 5000 examples\")\n",
    "np.unique(y_train, return_counts=True)"
   ]
  },
  {
   "cell_type": "code",
   "execution_count": 33,
   "metadata": {},
   "outputs": [
    {
     "name": "stdout",
     "output_type": "stream",
     "text": [
      "In the test data there are 10 classes of object, each contains 1000 examples\n"
     ]
    },
    {
     "data": {
      "text/plain": [
       "(array([0, 1, 2, 3, 4, 5, 6, 7, 8, 9]),\n",
       " array([1000, 1000, 1000, 1000, 1000, 1000, 1000, 1000, 1000, 1000]))"
      ]
     },
     "execution_count": 33,
     "metadata": {},
     "output_type": "execute_result"
    }
   ],
   "source": [
    "print(\"In the test data there are 10 classes of object, each contains 1000 examples\")\n",
    "np.unique(y_test, return_counts=True)"
   ]
  },
  {
   "cell_type": "markdown",
   "metadata": {},
   "source": [
    "## Random predictions"
   ]
  },
  {
   "cell_type": "code",
   "execution_count": 34,
   "metadata": {},
   "outputs": [],
   "source": [
    "def cifar_10_rand(x) :\n",
    "    size = len(x)\n",
    "    random_preds = np.random.randint(0, 10, size)\n",
    "    return random_preds"
   ]
  },
  {
   "cell_type": "code",
   "execution_count": 35,
   "metadata": {},
   "outputs": [],
   "source": [
    "rand_preds = cifar_10_rand(x_test)"
   ]
  },
  {
   "cell_type": "code",
   "execution_count": 36,
   "metadata": {},
   "outputs": [
    {
     "data": {
      "text/plain": [
       "array([7, 4, 9, 5, 3, 7, 8, 4, 6, 5, 5, 1, 0, 4, 6, 8, 2, 5, 5, 3, 3, 5,\n",
       "       2, 0, 0, 7, 4, 0, 3, 9, 1, 3, 1, 8, 9, 0, 7, 4, 7, 1, 3, 9, 2, 8,\n",
       "       6, 3, 3, 2, 6, 8, 8, 1, 7, 9, 7, 4, 3, 5, 3, 1, 5, 0, 3, 4, 6, 9,\n",
       "       9, 2, 1, 7, 1, 4, 5, 1, 5, 9, 6, 0, 8, 0, 9, 4, 9, 4, 5, 7, 5, 3,\n",
       "       4, 9, 0, 8, 6, 9, 7, 7, 4, 9, 5, 3])"
      ]
     },
     "execution_count": 36,
     "metadata": {},
     "output_type": "execute_result"
    }
   ],
   "source": [
    "# let's see what's inside\n",
    "rand_preds[0:100]"
   ]
  },
  {
   "cell_type": "markdown",
   "metadata": {},
   "source": [
    "## Accuracy function"
   ]
  },
  {
   "cell_type": "code",
   "execution_count": 37,
   "metadata": {},
   "outputs": [],
   "source": [
    "def getAccuracy(testSet, predictions):\n",
    "    correct = 0\n",
    "    for x in range(len(testSet)):\n",
    "        if testSet[x][-1] == predictions[x]:\n",
    "            correct += 1\n",
    "    return (correct/float(len(testSet))) * 100.0"
   ]
  },
  {
   "cell_type": "code",
   "execution_count": 38,
   "metadata": {},
   "outputs": [
    {
     "name": "stdout",
     "output_type": "stream",
     "text": [
      "The accuracy score for random prediction model is:  9.41 %\n"
     ]
    }
   ],
   "source": [
    "score = getAccuracy(y_test, rand_preds)\n",
    "print( \"The accuracy score for random prediction model is: \", np.round(score, 2), \"%\")"
   ]
  },
  {
   "cell_type": "markdown",
   "metadata": {},
   "source": [
    "## The kNN model"
   ]
  },
  {
   "cell_type": "markdown",
   "metadata": {},
   "source": [
    "The data needs to be reshaped from 3D to 2D numpy array"
   ]
  },
  {
   "cell_type": "code",
   "execution_count": 39,
   "metadata": {},
   "outputs": [
    {
     "name": "stdout",
     "output_type": "stream",
     "text": [
      "(50000, 3072) (10000, 3072)\n"
     ]
    }
   ],
   "source": [
    "d1, d2, d3, d4 = x_train.shape\n",
    "train_reshaped = x_train.reshape((d1, d2*d3*d4))\n",
    "\n",
    "d1, d2, d3, d4 = x_test.shape\n",
    "test_reshaped = x_test.reshape((d1, d2*d3*d4))\n",
    "\n",
    "print(np.shape(train_reshaped), np.shape(test_reshaped))"
   ]
  },
  {
   "cell_type": "markdown",
   "metadata": {},
   "source": [
    "We'll take a small part of the data for the test (hence the accuracy is not good)"
   ]
  },
  {
   "cell_type": "code",
   "execution_count": 56,
   "metadata": {},
   "outputs": [],
   "source": [
    "train1 = train_reshaped[0:500, :]\n",
    "Y_train1 = y_train[0:500]\n",
    "test1 = test_reshaped[0:100, :]\n",
    "Y_test1 = y_test[0:100]"
   ]
  },
  {
   "cell_type": "code",
   "execution_count": 57,
   "metadata": {},
   "outputs": [],
   "source": [
    "import math\n",
    "import operator\n",
    "\n",
    "def euclideanDistance(instance1, instance2, length):\n",
    "    distance = 0\n",
    "    for x in range(length):\n",
    "        distance += pow((instance1[x] - instance2[x]), 2)\n",
    "    return math.sqrt(distance)\n",
    "\n",
    "\n",
    "distances = []\n",
    "for x in range(len(train1)):\n",
    "    for i in range(len(test1)):\n",
    "        distances.append(euclideanDistance(train1[x], test1[i], len(train1)))\n",
    "\n",
    "distances = np.array(distances)\n",
    "distances = distances.reshape(100, 500)"
   ]
  },
  {
   "cell_type": "code",
   "execution_count": 58,
   "metadata": {},
   "outputs": [],
   "source": [
    "responses = []\n",
    "for i in range(len(distances)):\n",
    "    nearest = np.argmin(distances[i])\n",
    "    response = Y_train1[nearest]\n",
    "    responses.append(response)\n",
    "#print(responses)"
   ]
  },
  {
   "cell_type": "code",
   "execution_count": 59,
   "metadata": {},
   "outputs": [
    {
     "data": {
      "text/plain": [
       "13.0"
      ]
     },
     "execution_count": 59,
     "metadata": {},
     "output_type": "execute_result"
    }
   ],
   "source": [
    "getAccuracy(Y_test1, responses)"
   ]
  }
 ],
 "metadata": {
  "kernelspec": {
   "display_name": "Python 3",
   "language": "python",
   "name": "python3"
  },
  "language_info": {
   "codemirror_mode": {
    "name": "ipython",
    "version": 3
   },
   "file_extension": ".py",
   "mimetype": "text/x-python",
   "name": "python",
   "nbconvert_exporter": "python",
   "pygments_lexer": "ipython3",
   "version": "3.7.4"
  }
 },
 "nbformat": 4,
 "nbformat_minor": 4
}

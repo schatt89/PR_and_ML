{
 "cells": [
  {
   "cell_type": "markdown",
   "metadata": {},
   "source": [
    "## Ex.1 Naïve bayes classifier"
   ]
  },
  {
   "cell_type": "code",
   "execution_count": 1,
   "metadata": {},
   "outputs": [
    {
     "name": "stderr",
     "output_type": "stream",
     "text": [
      "Using TensorFlow backend.\n"
     ]
    },
    {
     "name": "stdout",
     "output_type": "stream",
     "text": [
      "data loaded\n"
     ]
    }
   ],
   "source": [
    "import warnings\n",
    "warnings.filterwarnings('ignore')\n",
    "from keras.datasets import cifar10\n",
    "import numpy as np\n",
    "\n",
    "# load the data\n",
    "(x_train, y_train), (x_test, y_test) = cifar10.load_data()\n",
    "y_train = np.squeeze(y_train)\n",
    "\n",
    "print('data loaded')"
   ]
  },
  {
   "cell_type": "markdown",
   "metadata": {},
   "source": [
    "## Compressing images (mean colors)"
   ]
  },
  {
   "cell_type": "code",
   "execution_count": 2,
   "metadata": {},
   "outputs": [],
   "source": [
    "def cifar_10_features(x) :\n",
    "    reds = x[:, :, :, 0]\n",
    "    greens = x[:, :, :, 1]\n",
    "    blues = x[:, :, :, 2]\n",
    "    \n",
    "    r = np.mean(reds, axis = 1) \n",
    "    r = np.mean(r, axis = 1)\n",
    "    \n",
    "    g = np.mean(greens, axis = 1)\n",
    "    g = np.mean(g, axis = 1)\n",
    "    \n",
    "    b = np.mean(blues, axis = 1)\n",
    "    b = np.mean(b, axis = 1)\n",
    "    \n",
    "    m = np.asmatrix([r, g, b])\n",
    "    m = m.transpose()\n",
    "    \n",
    "    return(m)"
   ]
  },
  {
   "cell_type": "code",
   "execution_count": 3,
   "metadata": {},
   "outputs": [
    {
     "data": {
      "text/plain": [
       "matrix([[141.20507812, 105.09960938,  64.03710938],\n",
       "        [130.19921875, 130.36523438, 130.47753906],\n",
       "        [133.484375  , 135.15234375, 132.58496094],\n",
       "        [ 99.97949219,  83.27929688,  57.4140625 ],\n",
       "        [ 92.02148438, 102.40039062, 116.00292969],\n",
       "        [142.44042969,  70.78027344,  57.77832031],\n",
       "        [120.53125   , 152.91601562,  85.37792969],\n",
       "        [132.45214844, 134.77441406,  97.86914062],\n",
       "        [109.16503906, 156.23730469, 188.98339844],\n",
       "        [ 78.13671875,  71.56347656,  61.79589844]])"
      ]
     },
     "execution_count": 3,
     "metadata": {},
     "output_type": "execute_result"
    }
   ],
   "source": [
    "compressed = cifar_10_features(x_train) # images compressed to mean colors\n",
    "compressed[:10] # means or red, green and blue "
   ]
  },
  {
   "cell_type": "markdown",
   "metadata": {},
   "source": [
    "## Compute means and standard deviation for each class"
   ]
  },
  {
   "cell_type": "code",
   "execution_count": 4,
   "metadata": {},
   "outputs": [],
   "source": [
    "def cifar_10_bayes_learn(F, labels) :\n",
    "    mu = []\n",
    "    sigma = []\n",
    "    p = []\n",
    "    for i in range(0,10) :\n",
    "        subset = F[labels == i]\n",
    "        \n",
    "        mu.append([np.mean(subset[:,0]), np.mean(subset[:,1]), np.mean(subset[:,2])])\n",
    "        sigma.append([np.std(subset[:,0]), np.std(subset[:,1]), np.std(subset[:,2])])\n",
    "        p.append(0.1)\n",
    "        \n",
    "        \n",
    "    return(mu, sigma, p)       "
   ]
  },
  {
   "cell_type": "code",
   "execution_count": 5,
   "metadata": {},
   "outputs": [],
   "source": [
    "mu, sigma, p = cifar_10_bayes_learn(compressed, y_train) # we don't really need p"
   ]
  },
  {
   "cell_type": "code",
   "execution_count": 6,
   "metadata": {},
   "outputs": [
    {
     "data": {
      "text/plain": [
       "([[134.0421294921875, 142.88398828125, 150.1712365234375],\n",
       "  [120.151954296875, 115.9050015625, 114.0356544921875],\n",
       "  [124.758728125, 125.3266419921875, 108.1314193359375]],\n",
       " [[39.2313259192212, 36.14282071223197, 41.81228429247887],\n",
       "  [31.101704791744677, 31.801786676856924, 35.31876894780207],\n",
       "  [35.799190406586554, 34.06417512127681, 41.10559095944867]])"
      ]
     },
     "execution_count": 6,
     "metadata": {},
     "output_type": "execute_result"
    }
   ],
   "source": [
    "mu[:3], sigma[:3] # means and standard deviations for each color"
   ]
  },
  {
   "cell_type": "code",
   "execution_count": 7,
   "metadata": {},
   "outputs": [],
   "source": [
    "import math\n",
    "def calculateProbability(x, mu, sigma): # this is the probability of `x` to be from some normal distribution with parameters (mu and sigma)\n",
    "    exponent = math.exp(-(math.pow(x-mu,2)/(2*math.pow(sigma,2))))\n",
    "    return((1 / (math.sqrt(2*math.pi) * sigma)) * exponent)\n",
    "\n",
    "\n",
    "def cifar_10_bayes_classify(mu, sigma, F): # naïve bayes\n",
    "    predictions = []    \n",
    "    for i in range(len(F)):\n",
    "        x = np.array(F[i])[0] # look, here is `x` (one compressed image from test)\n",
    "        probabilities = []\n",
    "        for j in range(0,10):\n",
    "            probabilities.append(calculateProbability(x[0], mu[j][0], sigma[j][0]) * # red\n",
    "                                 calculateProbability(x[1], mu[j][1], sigma[j][1]) * # green\n",
    "                                 calculateProbability(x[2], mu[j][2], sigma[j][2]))  # blue\n",
    "        predictions.append(np.argmax(probabilities)) # find the index of maximum probability\n",
    "    return(np.array(predictions))"
   ]
  },
  {
   "cell_type": "markdown",
   "metadata": {},
   "source": [
    "## Testing the algorithm"
   ]
  },
  {
   "cell_type": "code",
   "execution_count": 8,
   "metadata": {},
   "outputs": [],
   "source": [
    "test_compressed = cifar_10_features(x_test) # take means for images in test data\n",
    "pred_class = cifar_10_bayes_classify(mu, sigma, test_compressed) # predict classes for the test data"
   ]
  },
  {
   "cell_type": "code",
   "execution_count": 9,
   "metadata": {},
   "outputs": [],
   "source": [
    "def getAccuracy(testSet, predictions):\n",
    "    correct = 0\n",
    "    for x in range(len(testSet)):\n",
    "        if testSet[x][-1] == predictions[x]:\n",
    "            correct += 1\n",
    "    return (correct/float(len(testSet))) * 100.0"
   ]
  },
  {
   "cell_type": "code",
   "execution_count": 10,
   "metadata": {},
   "outputs": [
    {
     "name": "stdout",
     "output_type": "stream",
     "text": [
      "The accuracy for Naïve Bayes classifier with mean colors is: 19.47 %\n"
     ]
    }
   ],
   "source": [
    "print(\"The accuracy for Naïve Bayes classifier with mean colors is:\", round(getAccuracy(y_test, pred_class), 2), \"%\")"
   ]
  },
  {
   "cell_type": "markdown",
   "metadata": {},
   "source": [
    "## Ex.2 Not-naïve bayes classifier\n",
    "\n",
    "Multivariate gaussian. Here we assume that the features (mean colors) depend on each other. That's why we compute the covariate matrixes."
   ]
  },
  {
   "cell_type": "code",
   "execution_count": 375,
   "metadata": {},
   "outputs": [],
   "source": [
    "from scipy.stats import multivariate_normal"
   ]
  },
  {
   "cell_type": "code",
   "execution_count": 376,
   "metadata": {},
   "outputs": [],
   "source": [
    "# The function that compute class-wise covariate matrixes\n",
    "def cifar_10_mult_covars(F, labels): # F - training dataset (compressed), labels - training labels (y_train)\n",
    "    covars = []\n",
    "    for i in range(0,10) :\n",
    "        subset = F[labels == i]\n",
    "        covars.append(np.cov(np.transpose(subset)))\n",
    "    return(covars)"
   ]
  },
  {
   "cell_type": "code",
   "execution_count": 377,
   "metadata": {},
   "outputs": [],
   "source": [
    "covars = cifar_10_mult_covars(compressed, y_train) # compute the covariate matrixes for each class"
   ]
  },
  {
   "cell_type": "code",
   "execution_count": 380,
   "metadata": {},
   "outputs": [],
   "source": [
    "def cifar_10_mult_bayes_classify(F, mu, covars): # F - compressed test dataset, parameters of norm distribution for each class\n",
    "    preds = []\n",
    "    for i in range(len(F)):\n",
    "        point = F[i]\n",
    "        probs = []\n",
    "        for j in range(0,10):\n",
    "            probs.append(multivariate_normal.pdf(point, mu[j], covars[j]))\n",
    "        preds.append(np.argmax(probs))\n",
    "    return(preds) "
   ]
  },
  {
   "cell_type": "code",
   "execution_count": 383,
   "metadata": {},
   "outputs": [],
   "source": [
    "mult_preds = cifar_10_mult_bayes_classify(test_compressed, mu, covars)"
   ]
  },
  {
   "cell_type": "code",
   "execution_count": 385,
   "metadata": {},
   "outputs": [
    {
     "name": "stdout",
     "output_type": "stream",
     "text": [
      "1x1 mean colors multivariate gaussian accuracy: 24.58 %\n"
     ]
    }
   ],
   "source": [
    "print(\"1x1 mean colors multivariate gaussian accuracy:\", getAccuracy(y_test, mult_preds), \"%\")"
   ]
  },
  {
   "cell_type": "markdown",
   "metadata": {},
   "source": [
    "## Ex.3 More features\n",
    "\n",
    "First, we need to compress the images to 4x4, 8x8, 16x16. There is a nice function for that. It can compress all to images the the specified sizes at once."
   ]
  },
  {
   "cell_type": "code",
   "execution_count": 386,
   "metadata": {},
   "outputs": [],
   "source": [
    "import scipy.ndimage as si\n",
    "\n",
    "def resample(img, dims):\n",
    "    orig = img.shape[1]\n",
    "\n",
    "    new_imgs = []\n",
    "    for dim in dims:\n",
    "        factor = dim / orig\n",
    "        new_img = si.zoom(img, zoom=[1, factor, factor, 1], mode = 'nearest') # this is a cool function, google it\n",
    "        new_imgs.append(new_img)\n",
    "\n",
    "    return new_imgs"
   ]
  },
  {
   "cell_type": "code",
   "execution_count": 388,
   "metadata": {},
   "outputs": [
    {
     "data": {
      "text/plain": [
       "[(50000, 2, 2, 3), (50000, 4, 4, 3), (50000, 8, 8, 3), (50000, 16, 16, 3)]"
      ]
     },
     "execution_count": 388,
     "metadata": {},
     "output_type": "execute_result"
    }
   ],
   "source": [
    "# lets compress images\n",
    "# it will take some time\n",
    "new_imgs = resample(x_train, dims = [2, 4, 8, 16]) # compress train data \n",
    "[img.shape for img in new_imgs] # shapes "
   ]
  },
  {
   "cell_type": "markdown",
   "metadata": {},
   "source": [
    "We can see how the compression worked"
   ]
  },
  {
   "cell_type": "code",
   "execution_count": 391,
   "metadata": {},
   "outputs": [
    {
     "data": {
      "image/png": "[encoded data removed]",
      "text/plain": [
       "<Figure size 432x288 with 1 Axes>"
      ]
     },
     "metadata": {
      "needs_background": "light"
     },
     "output_type": "display_data"
    }
   ],
   "source": [
    "%matplotlib inline \n",
    "from matplotlib import pyplot as plt\n",
    "\n",
    "M = x_train[200,:,:,:] # 200th image\n",
    "\n",
    "plt.imshow(M)\n",
    "plt.show()"
   ]
  },
  {
   "cell_type": "code",
   "execution_count": 394,
   "metadata": {},
   "outputs": [
    {
     "data": {
      "image/png": "[encoded data removed]",
      "text/plain": [
       "<Figure size 432x288 with 1 Axes>"
      ]
     },
     "metadata": {
      "needs_background": "light"
     },
     "output_type": "display_data"
    }
   ],
   "source": [
    "M1 = new_imgs[3][200,:,:,:] # 200th image compressed to 16x16\n",
    "\n",
    "plt.imshow(M1)\n",
    "plt.show()"
   ]
  },
  {
   "cell_type": "code",
   "execution_count": 314,
   "metadata": {},
   "outputs": [],
   "source": [
    "# reshape the 4D compressed images to 2D arrays so we can use the colors as \n",
    "res2 = new_imgs[0].reshape(50000, -1) # it says: for 1st dimension keep 50000, flatten the rest of them (-1 comand)\n",
    "res4 = new_imgs[1].reshape(50000, -1)\n",
    "res8 = new_imgs[2].reshape(50000, -1)\n",
    "res16 = new_imgs[3].reshape(50000, -1)\n",
    "#res32 = new_imgs[4].reshape(50000, -1)"
   ]
  },
  {
   "cell_type": "code",
   "execution_count": 315,
   "metadata": {},
   "outputs": [],
   "source": [
    "# for each compressed dataset we want to calculate the class-wise covariates\n",
    "covars2 = cifar_10_mult_covars(res2, y_train)\n",
    "covars4 = cifar_10_mult_covars(res4, y_train) \n",
    "covars8 = cifar_10_mult_covars(res8, y_train)\n",
    "covars16 = cifar_10_mult_covars(res16, y_train)\n",
    "#covars32 = cifar_10_mult_covars(res32, y_train)"
   ]
  },
  {
   "cell_type": "code",
   "execution_count": 336,
   "metadata": {},
   "outputs": [],
   "source": [
    "# we need a slightly different function for finding class-wise means of features \n",
    "def means_of_features(F, labels):\n",
    "    mu = []\n",
    "    for i in range(0,10) :\n",
    "        subset = F[labels == i]\n",
    "        \n",
    "        mu.append(np.mean(subset, axis = 0))\n",
    "        \n",
    "    return mu       "
   ]
  },
  {
   "cell_type": "code",
   "execution_count": 337,
   "metadata": {},
   "outputs": [],
   "source": [
    "# Now let's compute the means of features in each class\n",
    "\n",
    "col_means2 = means_of_features(res2, y_train)\n",
    "col_means4 = means_of_features(res4, y_train)\n",
    "col_means8 = means_of_features(res8, y_train)\n",
    "col_means16 = means_of_features(res16, y_train)\n",
    "#col_means32 = means_of_features(res32, y_train)"
   ]
  },
  {
   "cell_type": "code",
   "execution_count": 338,
   "metadata": {},
   "outputs": [],
   "source": [
    "# Now we compress the test images\n",
    "new_imgs_test = resample(x_test, dims = [2, 4, 8, 16])"
   ]
  },
  {
   "cell_type": "code",
   "execution_count": 339,
   "metadata": {},
   "outputs": [],
   "source": [
    "# Flatten them\n",
    "test2 = new_imgs_test[0].reshape(10000, -1)\n",
    "test4 = new_imgs_test[1].reshape(10000, -1)\n",
    "test8 = new_imgs_test[2].reshape(10000, -1)\n",
    "test16 = new_imgs_test[3].reshape(10000, -1)\n",
    "test32 = new_imgs_test[4].reshape(10000, -1)"
   ]
  },
  {
   "cell_type": "code",
   "execution_count": 347,
   "metadata": {},
   "outputs": [],
   "source": [
    "# and predict classes for test images\n",
    "def predict_class(F, mu, covars): # the function basically repeats the `cifar_10_mult_bayes_classify`, sorry\n",
    "    probs = []\n",
    "    for i in range(len(F)):\n",
    "        point = F[i]\n",
    "        p = []\n",
    "        for j in range(0,10):\n",
    "            p.append(multivariate_normal.pdf(point, mu[j], covars[j]))\n",
    "        probs.append(np.argmax(p))\n",
    "    return probs"
   ]
  },
  {
   "cell_type": "code",
   "execution_count": 354,
   "metadata": {},
   "outputs": [],
   "source": [
    "pred2 = predict_class(test2, col_means2, covars2)\n",
    "pred4 = predict_class(test4, col_means4, covars4)\n",
    "pred8 = predict_class(test8, col_means8, covars8)\n",
    "#pred16 = predict_class(test16, col_means16, covars16) # runs for 1.5 hours on my machine\n",
    "# pred32 = predict_class(test32, col_means32, covars32) \n",
    "# 32x32 is taking too long to estimate and the accuracy will not get any better"
   ]
  },
  {
   "cell_type": "markdown",
   "metadata": {},
   "source": [
    "## Results"
   ]
  },
  {
   "cell_type": "code",
   "execution_count": 360,
   "metadata": {},
   "outputs": [
    {
     "name": "stdout",
     "output_type": "stream",
     "text": [
      "Mean colors Naïve Bayes classifier accuracy: 19.47 %\n",
      "1x1 mean colors multivariate gaussian accuracy: 24.58 %\n",
      "2x2 multivariate gaussian accuracy: 26.1 %\n",
      "4x4 multivariate gaussian accuracy: 34.16 %\n",
      "8x8 multivariate gaussian accuracy: 10.67 %\n",
      "16x16 multivariate gaussian accuracy: 10.0 %\n",
      "My guess is that the accuracy will not get any better with 32x32 anyway\n"
     ]
    }
   ],
   "source": [
    "print(\"Mean colors Naïve Bayes classifier accuracy:\" , round(getAccuracy(y_test, pred_class), 2), \"%\")\n",
    "print(\"1x1 mean colors multivariate gaussian accuracy:\", getAccuracy(y_test, mult_preds), \"%\")\n",
    "print(\"2x2 multivariate gaussian accuracy:\" , getAccuracy(y_test, pred2), \"%\")\n",
    "print(\"4x4 multivariate gaussian accuracy:\", round(getAccuracy(y_test, pred4), 2), \"%\")\n",
    "print(\"8x8 multivariate gaussian accuracy:\", getAccuracy(y_test, pred8), \"%\")\n",
    "print(\"16x16 multivariate gaussian accuracy:\", getAccuracy(y_test, pred16), \"%\")\n",
    "print(\"My guess is that the accuracy will not get any better with 32x32 anyway\")"
   ]
  }
 ],
 "metadata": {
  "kernelspec": {
   "display_name": "Python 3",
   "language": "python",
   "name": "python3"
  },
  "language_info": {
   "codemirror_mode": {
    "name": "ipython",
    "version": 3
   },
   "file_extension": ".py",
   "mimetype": "text/x-python",
   "name": "python",
   "nbconvert_exporter": "python",
   "pygments_lexer": "ipython3",
   "version": "3.7.4"
  }
 },
 "nbformat": 4,
 "nbformat_minor": 4
}
